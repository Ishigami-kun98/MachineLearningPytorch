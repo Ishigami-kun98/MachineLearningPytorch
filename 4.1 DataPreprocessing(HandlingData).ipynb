{
  "nbformat": 4,
  "nbformat_minor": 0,
  "metadata": {
    "colab": {
      "provenance": [],
      "collapsed_sections": [
        "C8pqXyusVPV9",
        "Q0fB5rkXUx8c",
        "tALVCfJtVd8c"
      ]
    },
    "kernelspec": {
      "name": "python3",
      "display_name": "Python 3"
    },
    "language_info": {
      "name": "python"
    },
    "accelerator": "GPU"
  },
  "cells": [
    {
      "cell_type": "markdown",
      "source": [
        "# Panda\n"
      ],
      "metadata": {
        "id": "C8pqXyusVPV9"
      }
    },
    {
      "cell_type": "code",
      "execution_count": 15,
      "metadata": {
        "colab": {
          "base_uri": "https://localhost:8080/"
        },
        "id": "oX8I1EaALMDt",
        "outputId": "9227467a-abb8-44a7-eb1a-9a330c98e67a"
      },
      "outputs": [
        {
          "output_type": "stream",
          "name": "stdout",
          "text": [
            "      A     B     C    D\n",
            "0   1.0   2.0   3.0  4.0\n",
            "1   5.0   6.0   NaN  8.0\n",
            "2  10.0  11.0  12.0  NaN\n",
            "A    0\n",
            "B    0\n",
            "C    1\n",
            "D    1\n",
            "dtype: int64\n",
            "[[ 1.  2.  3.  4.]\n",
            " [ 5.  6. nan  8.]\n",
            " [10. 11. 12. nan]]\n"
          ]
        }
      ],
      "source": [
        "import pandas as pd\n",
        "from io import StringIO\n",
        "csv_data = \\\n",
        "'''A,B,C,D\n",
        "1.0,2.0,3.0,4.0\n",
        "5.0,6.0,,8.0\n",
        "10.0,11.0,12.0,'''\n",
        "df = pd.read_csv(StringIO(csv_data))\n",
        "print(df)\n",
        "#here we briefly created a csv which containn some missing value\n",
        "#for bigger dataset we could use is.null().sum()\n",
        "print(df.isnull().sum())\n",
        "print(df.values)"
      ]
    },
    {
      "cell_type": "markdown",
      "source": [
        "# <H1> IMPUTING "
      ],
      "metadata": {
        "id": "Q0fB5rkXUx8c"
      }
    },
    {
      "cell_type": "code",
      "source": [
        "#one of the easiest way is to delete the row with missing element. with drop not a number dropna\n",
        "df.dropna(axis=0)\n",
        "#or\n",
        "df.dropna(axis=1)"
      ],
      "metadata": {
        "colab": {
          "base_uri": "https://localhost:8080/",
          "height": 143
        },
        "id": "DB3eOBSyRgnM",
        "outputId": "5c4ab25a-2360-4166-c276-e0655b3c6aa9"
      },
      "execution_count": 14,
      "outputs": [
        {
          "output_type": "execute_result",
          "data": {
            "text/plain": [
              "      A     B\n",
              "0   1.0   2.0\n",
              "1   5.0   6.0\n",
              "2  10.0  11.0"
            ],
            "text/html": [
              "\n",
              "  <div id=\"df-6d5bb174-df44-4a9e-816c-bf37d7d3b45d\">\n",
              "    <div class=\"colab-df-container\">\n",
              "      <div>\n",
              "<style scoped>\n",
              "    .dataframe tbody tr th:only-of-type {\n",
              "        vertical-align: middle;\n",
              "    }\n",
              "\n",
              "    .dataframe tbody tr th {\n",
              "        vertical-align: top;\n",
              "    }\n",
              "\n",
              "    .dataframe thead th {\n",
              "        text-align: right;\n",
              "    }\n",
              "</style>\n",
              "<table border=\"1\" class=\"dataframe\">\n",
              "  <thead>\n",
              "    <tr style=\"text-align: right;\">\n",
              "      <th></th>\n",
              "      <th>A</th>\n",
              "      <th>B</th>\n",
              "    </tr>\n",
              "  </thead>\n",
              "  <tbody>\n",
              "    <tr>\n",
              "      <th>0</th>\n",
              "      <td>1.0</td>\n",
              "      <td>2.0</td>\n",
              "    </tr>\n",
              "    <tr>\n",
              "      <th>1</th>\n",
              "      <td>5.0</td>\n",
              "      <td>6.0</td>\n",
              "    </tr>\n",
              "    <tr>\n",
              "      <th>2</th>\n",
              "      <td>10.0</td>\n",
              "      <td>11.0</td>\n",
              "    </tr>\n",
              "  </tbody>\n",
              "</table>\n",
              "</div>\n",
              "      <button class=\"colab-df-convert\" onclick=\"convertToInteractive('df-6d5bb174-df44-4a9e-816c-bf37d7d3b45d')\"\n",
              "              title=\"Convert this dataframe to an interactive table.\"\n",
              "              style=\"display:none;\">\n",
              "        \n",
              "  <svg xmlns=\"http://www.w3.org/2000/svg\" height=\"24px\"viewBox=\"0 0 24 24\"\n",
              "       width=\"24px\">\n",
              "    <path d=\"M0 0h24v24H0V0z\" fill=\"none\"/>\n",
              "    <path d=\"M18.56 5.44l.94 2.06.94-2.06 2.06-.94-2.06-.94-.94-2.06-.94 2.06-2.06.94zm-11 1L8.5 8.5l.94-2.06 2.06-.94-2.06-.94L8.5 2.5l-.94 2.06-2.06.94zm10 10l.94 2.06.94-2.06 2.06-.94-2.06-.94-.94-2.06-.94 2.06-2.06.94z\"/><path d=\"M17.41 7.96l-1.37-1.37c-.4-.4-.92-.59-1.43-.59-.52 0-1.04.2-1.43.59L10.3 9.45l-7.72 7.72c-.78.78-.78 2.05 0 2.83L4 21.41c.39.39.9.59 1.41.59.51 0 1.02-.2 1.41-.59l7.78-7.78 2.81-2.81c.8-.78.8-2.07 0-2.86zM5.41 20L4 18.59l7.72-7.72 1.47 1.35L5.41 20z\"/>\n",
              "  </svg>\n",
              "      </button>\n",
              "      \n",
              "  <style>\n",
              "    .colab-df-container {\n",
              "      display:flex;\n",
              "      flex-wrap:wrap;\n",
              "      gap: 12px;\n",
              "    }\n",
              "\n",
              "    .colab-df-convert {\n",
              "      background-color: #E8F0FE;\n",
              "      border: none;\n",
              "      border-radius: 50%;\n",
              "      cursor: pointer;\n",
              "      display: none;\n",
              "      fill: #1967D2;\n",
              "      height: 32px;\n",
              "      padding: 0 0 0 0;\n",
              "      width: 32px;\n",
              "    }\n",
              "\n",
              "    .colab-df-convert:hover {\n",
              "      background-color: #E2EBFA;\n",
              "      box-shadow: 0px 1px 2px rgba(60, 64, 67, 0.3), 0px 1px 3px 1px rgba(60, 64, 67, 0.15);\n",
              "      fill: #174EA6;\n",
              "    }\n",
              "\n",
              "    [theme=dark] .colab-df-convert {\n",
              "      background-color: #3B4455;\n",
              "      fill: #D2E3FC;\n",
              "    }\n",
              "\n",
              "    [theme=dark] .colab-df-convert:hover {\n",
              "      background-color: #434B5C;\n",
              "      box-shadow: 0px 1px 3px 1px rgba(0, 0, 0, 0.15);\n",
              "      filter: drop-shadow(0px 1px 2px rgba(0, 0, 0, 0.3));\n",
              "      fill: #FFFFFF;\n",
              "    }\n",
              "  </style>\n",
              "\n",
              "      <script>\n",
              "        const buttonEl =\n",
              "          document.querySelector('#df-6d5bb174-df44-4a9e-816c-bf37d7d3b45d button.colab-df-convert');\n",
              "        buttonEl.style.display =\n",
              "          google.colab.kernel.accessAllowed ? 'block' : 'none';\n",
              "\n",
              "        async function convertToInteractive(key) {\n",
              "          const element = document.querySelector('#df-6d5bb174-df44-4a9e-816c-bf37d7d3b45d');\n",
              "          const dataTable =\n",
              "            await google.colab.kernel.invokeFunction('convertToInteractive',\n",
              "                                                     [key], {});\n",
              "          if (!dataTable) return;\n",
              "\n",
              "          const docLinkHtml = 'Like what you see? Visit the ' +\n",
              "            '<a target=\"_blank\" href=https://colab.research.google.com/notebooks/data_table.ipynb>data table notebook</a>'\n",
              "            + ' to learn more about interactive tables.';\n",
              "          element.innerHTML = '';\n",
              "          dataTable['output_type'] = 'display_data';\n",
              "          await google.colab.output.renderOutput(dataTable, element);\n",
              "          const docLink = document.createElement('div');\n",
              "          docLink.innerHTML = docLinkHtml;\n",
              "          element.appendChild(docLink);\n",
              "        }\n",
              "      </script>\n",
              "    </div>\n",
              "  </div>\n",
              "  "
            ]
          },
          "metadata": {},
          "execution_count": 14
        }
      ]
    },
    {
      "cell_type": "code",
      "source": [
        "\n",
        "#Often the remove of the row and column is not the best choice, we can imputing missing value\n",
        "from sklearn.impute import SimpleImputer\n",
        "import numpy as np\n",
        "imr = SimpleImputer(missing_values=np.nan, strategy='mean') #impute the mean value of the column\n",
        "imr = imr.fit(df.values)\n",
        "imputed_data = imr.transform(df.values)\n",
        "print(imputed_data)\n",
        "\n",
        "#Alternative way is use pandas\n",
        "pdfill = df.fillna(df.mean())\n",
        "print(pdfill)"
      ],
      "metadata": {
        "colab": {
          "base_uri": "https://localhost:8080/"
        },
        "id": "hKghASknRyyf",
        "outputId": "635f67e2-ec88-405f-da37-014b524f22ef"
      },
      "execution_count": 18,
      "outputs": [
        {
          "output_type": "stream",
          "name": "stdout",
          "text": [
            "[[ 1.   2.   3.   4. ]\n",
            " [ 5.   6.   7.5  8. ]\n",
            " [10.  11.  12.   6. ]]\n",
            "      A     B     C    D\n",
            "0   1.0   2.0   3.0  4.0\n",
            "1   5.0   6.0   7.5  8.0\n",
            "2  10.0  11.0  12.0  6.0\n"
          ]
        }
      ]
    },
    {
      "cell_type": "markdown",
      "source": [
        "# Handling categorical data with pandas"
      ],
      "metadata": {
        "id": "tALVCfJtVd8c"
      }
    },
    {
      "cell_type": "markdown",
      "source": [
        "There exist 2 type of features, ordinal and nominal. ordinal can be ordered.\n",
        "nominal dont imply any order."
      ],
      "metadata": {
        "id": "xiUcWT4hVyHF"
      }
    },
    {
      "cell_type": "code",
      "source": [
        "df = pd.DataFrame([\n",
        "    ['green', 'M', 10.1, 'class2'],\n",
        "    ['red', 'L', 13.5, 'class1'],\n",
        "    ['blue', 'XL', 15.3, 'class2']\n",
        "])\n",
        "\n",
        "df.columns = ['color', 'size', 'price', 'classlabel']   #color features doesnt imply any order\n",
        "print(df)"
      ],
      "metadata": {
        "colab": {
          "base_uri": "https://localhost:8080/"
        },
        "id": "NcMCY1ZRVjOS",
        "outputId": "8ded1dd1-b549-469f-a2b0-1df5b06c557d"
      },
      "execution_count": 42,
      "outputs": [
        {
          "output_type": "stream",
          "name": "stdout",
          "text": [
            "   color size  price classlabel\n",
            "0  green    M   10.1     class2\n",
            "1    red    L   13.5     class1\n",
            "2   blue   XL   15.3     class2\n"
          ]
        }
      ]
    },
    {
      "cell_type": "markdown",
      "source": [
        "In order to interprets the ordinal features correctly, we need to convert categoritcal string into integers. we have to do this manually."
      ],
      "metadata": {
        "id": "JnWP74BYWYEU"
      }
    },
    {
      "cell_type": "code",
      "source": [
        "size_mapping = {'XL': 3,\n",
        "                'L': 2,\n",
        "                'M' : 1}\n",
        "\n",
        "df['size'] = df['size'].map(size_mapping)\n",
        "print(df)"
      ],
      "metadata": {
        "colab": {
          "base_uri": "https://localhost:8080/"
        },
        "id": "fy1SPfH4WiQ-",
        "outputId": "d0d54523-3d7d-4ff2-ccfa-f0cd0a754419"
      },
      "execution_count": 43,
      "outputs": [
        {
          "output_type": "stream",
          "name": "stdout",
          "text": [
            "   color  size  price classlabel\n",
            "0  green     1   10.1     class2\n",
            "1    red     2   13.5     class1\n",
            "2   blue     3   15.3     class2\n"
          ]
        }
      ]
    },
    {
      "cell_type": "markdown",
      "source": [
        "il mapping è numerico perchè costa meno computazione e spazio di memoria, poi definiamo la funzione inversa."
      ],
      "metadata": {
        "id": "C9ACoC7fW9OM"
      }
    },
    {
      "cell_type": "code",
      "source": [
        "inv_size_mapping = {v: k for k, v in size_mapping.items()}\n",
        "df['size']=df['size'].map(inv_size_mapping)\n",
        "print(df)"
      ],
      "metadata": {
        "colab": {
          "base_uri": "https://localhost:8080/"
        },
        "id": "yMNQqUNLXDe8",
        "outputId": "4df29a4a-2ce7-4a60-9706-d656a6ec9402"
      },
      "execution_count": 46,
      "outputs": [
        {
          "output_type": "stream",
          "name": "stdout",
          "text": [
            "   color size  price classlabel\n",
            "0  green    M   10.1     class2\n",
            "1    red    L   13.5     class1\n",
            "2   blue   XL   15.3     class2\n"
          ]
        }
      ]
    },
    {
      "cell_type": "markdown",
      "source": [
        "# Encoding class labels"
      ],
      "metadata": {
        "id": "ryKdz_OeXnEl"
      }
    },
    {
      "cell_type": "markdown",
      "source": [
        "Many scikit library encode the class labels into integer, to avoid technical glitches it is good practive to provide class labels as integer arrays."
      ],
      "metadata": {
        "id": "nuBv3tMTXrB-"
      }
    },
    {
      "cell_type": "code",
      "source": [
        "import numpy as np\n",
        "class_mapping = {label: idx for idx, label in\n",
        "                 enumerate(np.unique(df['classlabel']))}\n",
        "inv_class_mapping = {v: k for k, v in class_mapping.items()}\n",
        "#Here we go again\n",
        "df['classlabel'] = df['classlabel'].map(class_mapping)\n",
        "print(df)\n",
        "df['classlabel'] = df['classlabel'].map(inv_class_mapping)\n",
        "print(\"reverse\\n\", df)"
      ],
      "metadata": {
        "colab": {
          "base_uri": "https://localhost:8080/"
        },
        "id": "W3eVFW_qXzav",
        "outputId": "4a194bb0-1cf3-4ad7-bac8-e17c93b59502"
      },
      "execution_count": 47,
      "outputs": [
        {
          "output_type": "stream",
          "name": "stdout",
          "text": [
            "   color size  price  classlabel\n",
            "0  green    M   10.1           1\n",
            "1    red    L   13.5           0\n",
            "2   blue   XL   15.3           1\n",
            "reverse\n",
            "    color size  price classlabel\n",
            "0  green    M   10.1     class2\n",
            "1    red    L   13.5     class1\n",
            "2   blue   XL   15.3     class2\n"
          ]
        }
      ]
    },
    {
      "cell_type": "markdown",
      "source": [
        "Scikit already offer something"
      ],
      "metadata": {
        "id": "qkjP0KcJZuaC"
      }
    },
    {
      "cell_type": "code",
      "source": [
        "from sklearn.preprocessing import LabelEncoder\n",
        "class_le = LabelEncoder()\n",
        "y = class_le.fit_transform(df['classlabel'].values)\n",
        "print(y)\n",
        "inv_y = class_le.inverse_transform(y)\n",
        "print(inv_y)"
      ],
      "metadata": {
        "colab": {
          "base_uri": "https://localhost:8080/"
        },
        "id": "xEqUWIUGZ0cy",
        "outputId": "2b40cf46-1ac3-4814-9ea6-57203e91dbe8"
      },
      "execution_count": 50,
      "outputs": [
        {
          "output_type": "stream",
          "name": "stdout",
          "text": [
            "[1 0 1]\n",
            "['class2' 'class1' 'class2']\n"
          ]
        }
      ]
    },
    {
      "cell_type": "code",
      "source": [
        "X = df[['color', 'size', 'price']].values\n",
        "print(X)\n",
        "color_le = LabelEncoder()\n",
        "X[: ,0] = color_le.fit_transform(X[:, 0])\n",
        "print(X)"
      ],
      "metadata": {
        "colab": {
          "base_uri": "https://localhost:8080/"
        },
        "id": "oUAet8JKacKr",
        "outputId": "c45004ba-5129-4d20-8d89-6b5306794a63"
      },
      "execution_count": 53,
      "outputs": [
        {
          "output_type": "stream",
          "name": "stdout",
          "text": [
            "[['green' 'M' 10.1]\n",
            " ['red' 'L' 13.5]\n",
            " ['blue' 'XL' 15.3]]\n",
            "[[1 'M' 10.1]\n",
            " [2 'L' 13.5]\n",
            " [0 'XL' 15.3]]\n"
          ]
        }
      ]
    },
    {
      "cell_type": "markdown",
      "source": [
        "We have a big problem, now the models assume green > blue, red > green, this assumption is incorrect, a classifier can still produce useful results and this is the problem. Thats why now we are going to use one hot encoding.\n",
        "The idea behind is to create new dummy feature for each unique value in the nominal feature column.\n",
        "blue can be encoded as blue = 1, green = 0, red = 0."
      ],
      "metadata": {
        "id": "HaTXkGjJbJQb"
      }
    },
    {
      "cell_type": "code",
      "source": [
        "from sklearn.preprocessing import OneHotEncoder\n",
        "X = df[['color', 'size', 'price']].values\n",
        "color_ohe = OneHotEncoder()\n",
        "result_x = color_ohe.fit_transform(X[:, 0].reshape(-1, 1)).toarray()\n",
        "print(result_x)\n"
      ],
      "metadata": {
        "colab": {
          "base_uri": "https://localhost:8080/"
        },
        "id": "nZ4tIKyZbZyR",
        "outputId": "67f971b9-4de4-41df-b493-84ac4f9efafa"
      },
      "execution_count": 59,
      "outputs": [
        {
          "output_type": "stream",
          "name": "stdout",
          "text": [
            "[[0. 1. 0.]\n",
            " [0. 0. 1.]\n",
            " [1. 0. 0.]]\n"
          ]
        }
      ]
    }
  ]
}