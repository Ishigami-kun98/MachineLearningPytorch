{
  "nbformat": 4,
  "nbformat_minor": 0,
  "metadata": {
    "colab": {
      "provenance": [],
      "collapsed_sections": []
    },
    "kernelspec": {
      "name": "python3",
      "display_name": "Python 3"
    },
    "language_info": {
      "name": "python"
    },
    "accelerator": "GPU"
  },
  "cells": [
    {
      "cell_type": "code",
      "execution_count": 1,
      "metadata": {
        "id": "NtifX25udx4b"
      },
      "outputs": [],
      "source": [
        "from sklearn import datasets\n",
        "import numpy as np"
      ]
    },
    {
      "cell_type": "code",
      "source": [
        "iris = datasets.load_iris()\n",
        "X = iris.data[:, [2, 3]]    #getFeature\n",
        "y = iris.target     #get label\n",
        "print('Class labels:', np.unique(y)) #iris contain iris-setosa 0, iris-versicolor 1, iris-virginica 2\n",
        "#use integer to memory is better then string for smaller memory footprint and avoid glitches"
      ],
      "metadata": {
        "colab": {
          "base_uri": "https://localhost:8080/"
        },
        "id": "GiSwxIVBd7L4",
        "outputId": "42fd7c18-9468-4d29-c045-7a0d10738bab"
      },
      "execution_count": 22,
      "outputs": [
        {
          "output_type": "stream",
          "name": "stdout",
          "text": [
            "Class labels: [0 1 2]\n"
          ]
        }
      ]
    },
    {
      "cell_type": "code",
      "source": [
        "#Split\n",
        "from sklearn.model_selection import train_test_split\n",
        "X_train, X_test, y_train, y_test = train_test_split(\n",
        "    X, y, test_size=0.3, random_state=1, stratify=y\n",
        "    )\n",
        "#N.B. train_test_split first shuffles the training datasets internally before splitting.\n",
        "#Test data -> 45 sample\n",
        "#Stratify returns training and test subsets that have the same proportions of class labels as the input dataset"
      ],
      "metadata": {
        "id": "jKQ4m8ymfQNd"
      },
      "execution_count": 27,
      "outputs": []
    },
    {
      "cell_type": "code",
      "source": [
        "print('Labels counts in y : ', np.bincount(y))\n",
        "print('Labels counts in y : ', np.bincount(y_train))\n",
        "print('Labels counts in y : ', np.bincount(y_test))"
      ],
      "metadata": {
        "colab": {
          "base_uri": "https://localhost:8080/"
        },
        "id": "EOJN-_u0f4PN",
        "outputId": "7637d0b8-2135-4f2e-8d95-87f8527837fa"
      },
      "execution_count": 28,
      "outputs": [
        {
          "output_type": "stream",
          "name": "stdout",
          "text": [
            "Labels counts in y :  [50 50 50]\n",
            "Labels counts in y :  [35 35 35]\n",
            "Labels counts in y :  [15 15 15]\n"
          ]
        }
      ]
    },
    {
      "cell_type": "code",
      "source": [
        "#Feature preprocessing, needed for a lot of thing, never understimate preprocessing\n",
        "from sklearn.preprocessing import StandardScaler\n",
        "sc = StandardScaler()     #Loading standard scale\n",
        "sc.fit(X_train)          #Estimate the parameters, u(sample mean) o(standard deviation) for each feature\n",
        "X_train_std = sc.transform(X_train)    #we standardized the trainig data using estimated u and o.\n",
        "X_test_std = sc.transform(X_test)\n",
        "#we used the same StandardScaler for train and test so we can compare them"
      ],
      "metadata": {
        "id": "_u6dd0k9gNjk"
      },
      "execution_count": 29,
      "outputs": []
    },
    {
      "cell_type": "code",
      "source": [
        "#Finally making the perceptron\n",
        "from sklearn.linear_model import Perceptron\n",
        "ppn = Perceptron(eta0=0.1, random_state=1)\n",
        "ppn.fit(X_train_std, y_train)\n",
        "\n",
        "#To predict the model\n",
        "y_pred = ppn.predict(X_test_std)\n",
        "print('Misclassified examples: %d' % (y_test != y_pred).sum())\n",
        "#it return 1, this means we have one error in 45 sample, 0.022, the accuracy is\n",
        "# 1 - this value which is 0.978 -> 97.8% \n",
        "\n",
        "from sklearn.metrics import accuracy_score\n",
        "print('Accuracy: %.3f' % accuracy_score(y_test, y_pred))\n",
        "print('Accuracy: %.3f' % ppn.score(X_test_std, y_test))"
      ],
      "metadata": {
        "colab": {
          "base_uri": "https://localhost:8080/"
        },
        "id": "kogGRS0Ug86u",
        "outputId": "37866e74-b320-4ec7-fee8-6f6d00259e2d"
      },
      "execution_count": 32,
      "outputs": [
        {
          "output_type": "stream",
          "name": "stdout",
          "text": [
            "Misclassified examples: 1\n",
            "Accuracy: 0.978\n",
            "Accuracy: 0.978\n"
          ]
        }
      ]
    }
  ]
}