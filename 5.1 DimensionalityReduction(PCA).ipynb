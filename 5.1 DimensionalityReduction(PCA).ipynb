{
  "nbformat": 4,
  "nbformat_minor": 0,
  "metadata": {
    "colab": {
      "provenance": [],
      "collapsed_sections": [
        "6C3vPhpXEWxq"
      ]
    },
    "kernelspec": {
      "name": "python3",
      "display_name": "Python 3"
    },
    "language_info": {
      "name": "python"
    }
  },
  "cells": [
    {
      "cell_type": "markdown",
      "source": [
        "# Dimensionality Reduction\n"
      ],
      "metadata": {
        "id": "6C3vPhpXEWxq"
      }
    },
    {
      "cell_type": "markdown",
      "source": [
        "An alternative approach to feature selection for dimensionality reduction is feature extraction. <br>\n",
        "Data compression is an important topic in ML. here we will analyze: <br>\n",
        "\n",
        "\n",
        "1.   PCA(principal component analysis) for unsupervised data compression.\n",
        "2.   LDA (Linear discriminant analysis) as a supervised dimensionality reduction technique for maximizing class separability.\n",
        "1.   Overview of nonlinear dimensionality reduction techniques\n",
        "\n",
        "\n",
        "\n",
        "\n"
      ],
      "metadata": {
        "id": "sxeGVZtBEdBX"
      }
    },
    {
      "cell_type": "markdown",
      "source": [
        "<H1> PCA <br>\n",
        "<h6> An unsupervised linear transformation technique that is widely used across different fiels, most prominently for feature extraction and dimensionality reduction. <br>\n",
        "PCA aim to find directions of maximum variance in high dimensional data and projects the data of the new subspace with equal or fewer dimensions than the original one.<br>\n",
        "The orthogonal axes(PC) of the new subspace can be interpreted as the direction of maximum variance given the constraint that the new feature axes are orthogonal to each other."
      ],
      "metadata": {
        "id": "HcfkmlaUFR-a"
      }
    },
    {
      "cell_type": "markdown",
      "source": [
        "Using a pca construct a dxk dimensional transformation matrix, W, this allows us to map a vector of the features of the training example, x, onto a new k-dimensional feature subspace with fewer dimensions then the original d-dimensional feature space. <br>\n",
        "The result of transforming the original d-dimensional data onto this new k-dimensional subspace is that the first principal component have the largest possible variance. All consequent PC will have the largest variance given the constraint that these component are uncorrelated to the other PC, even if the input features are correlated, the resulting PC will be mutually uncorrelated. <br>\n",
        "PCA is highly sensitive to data scaling, so we need first standardize the features."
      ],
      "metadata": {
        "id": "9yjQfMH2NGk4"
      }
    },
    {
      "cell_type": "markdown",
      "source": [
        "PCA Steps\n",
        "\n",
        "\n",
        "1.   Standardize the d-dimensional dataset\n",
        "1.   Construc covariance matrix(which tells us which features are correlated), the covariance matrix explain the spread(variance) and the directions(covariance).\n",
        "1.   Decompose the covariance matrix into its eigenvectors (a vector which indicate the directions(covariance) of larger spread) and eigenvalues (a number which indicate its magnitude).\n",
        "1.   Sort the eigenvalues by decreasing order to rank the corresponding eigenvectors (the first eigenvectors will have the largest spread(variance), the second have the second largest spread ....).\n",
        "2.   Select k eigen vectors which correspond to the k largest eigenvalues, k is the dimensionality of new feature subspace.\n",
        "2.   Construct a projection matrix, W (dxk), we started from matrix dxd, now we are dxk, d = original features, k = wanted features.\n",
        "2.   Transform the d-dimensional input dataset, X, using the projection matrix, W to obtain the new k-dimensional feature subspace.\n",
        "\n",
        "\n"
      ],
      "metadata": {
        "id": "I385HTdUPGdO"
      }
    },
    {
      "cell_type": "code",
      "source": [
        "import pandas as pd\n",
        "#Database\n",
        "df_wine = pd.read_csv(\n",
        "'https://archive.ics.uci.edu/ml/'\n",
        "'machine-learning-databases/wine/wine.data',\n",
        "header=None\n",
        ")"
      ],
      "metadata": {
        "id": "JP_JU1jqUkfn"
      },
      "execution_count": 20,
      "outputs": []
    },
    {
      "cell_type": "code",
      "source": [
        "#Split\n",
        "from sklearn.model_selection import train_test_split\n",
        "X, y = df_wine.iloc[:, 1:].values, df_wine.iloc[:, 0].values\n",
        "X_train, X_test, y_train, y_test = train_test_split(X, y, test_size=0.3, stratify = y, random_state=0)"
      ],
      "metadata": {
        "id": "kuU1CYfHUrAP"
      },
      "execution_count": 21,
      "outputs": []
    },
    {
      "cell_type": "code",
      "source": [
        "#1) Standardalizzazione\n",
        "from sklearn.preprocessing import StandardScaler\n",
        "sc = StandardScaler()\n",
        "X_train_std = sc.fit_transform(X_train)\n",
        "X_test_std = sc.transform(X_test)"
      ],
      "metadata": {
        "id": "JtqNCSr7VU0p"
      },
      "execution_count": 22,
      "outputs": []
    },
    {
      "cell_type": "code",
      "source": [
        "#2) Covariance matrix\n",
        "import numpy as np\n",
        "cov_mat = np.cov(X_train_std.T)\n",
        "#3) eigen vectors and values\n",
        "eigen_vals, eigen_vecs = np.linalg.eig(cov_mat)\n",
        "print('\\nEigenvalues \\n', eigen_vals)\n",
        "print('\\nEigenVectors \\n', eigen_vecs)"
      ],
      "metadata": {
        "colab": {
          "base_uri": "https://localhost:8080/"
        },
        "id": "Z0DZiSvKV-d9",
        "outputId": "ab559ebe-6ecd-4ba6-e543-caa5a70c2cfc"
      },
      "execution_count": null,
      "outputs": [
        {
          "output_type": "stream",
          "name": "stdout",
          "text": [
            "\n",
            "Eigenvalues \n",
            " [4.84274532 2.41602459 1.54845825 0.96120438 0.84166161 0.6620634\n",
            " 0.51828472 0.34650377 0.3131368  0.10754642 0.21357215 0.15362835\n",
            " 0.1808613 ]\n",
            "\n",
            "EigenVectors \n",
            " [[-1.37242175e-01  5.03034778e-01 -1.37748734e-01 -3.29610003e-03\n",
            "  -2.90625226e-01  2.99096847e-01  7.90529293e-02 -3.68176414e-01\n",
            "  -3.98377017e-01 -9.44869777e-02  3.74638877e-01 -1.27834515e-01\n",
            "   2.62834263e-01]\n",
            " [ 2.47243265e-01  1.64871190e-01  9.61503863e-02  5.62646692e-01\n",
            "   8.95378697e-02  6.27036396e-01 -2.74002014e-01 -1.25775752e-02\n",
            "   1.10458230e-01  2.63652406e-02 -1.37405597e-01  8.06401578e-02\n",
            "  -2.66769211e-01]\n",
            " [-2.54515927e-02  2.44564761e-01  6.77775667e-01 -1.08977111e-01\n",
            "  -1.60834991e-01  3.89128239e-04  1.32328045e-01  1.77578177e-01\n",
            "   3.82496856e-01  1.42747511e-01  4.61583035e-01  1.67924873e-02\n",
            "  -1.15542548e-01]\n",
            " [ 2.06945084e-01 -1.13529045e-01  6.25040550e-01  3.38187002e-02\n",
            "   5.15873402e-02 -4.05836452e-02  2.23999097e-01 -4.40592110e-01\n",
            "  -2.43373853e-01 -1.30485780e-01 -4.18953989e-01 -1.10845657e-01\n",
            "   1.99483410e-01]\n",
            " [-1.54365821e-01  2.89745182e-01  1.96135481e-01 -3.67511070e-01\n",
            "   6.76487073e-01  6.57772614e-02 -4.05268966e-01  1.16617503e-01\n",
            "  -2.58982359e-01 -6.76080782e-02  1.00470630e-02  7.93879562e-02\n",
            "   2.89018810e-02]\n",
            " [-3.93769523e-01  5.08010391e-02  1.40310572e-01  2.40245127e-01\n",
            "  -1.18511144e-01 -5.89776247e-02 -3.47419412e-02  3.50192127e-01\n",
            "  -3.42312860e-01  4.59917661e-01 -2.21254241e-01 -4.91459313e-01\n",
            "  -6.63868598e-02]\n",
            " [-4.17351064e-01 -2.28733792e-02  1.17053859e-01  1.87053299e-01\n",
            "  -1.07100349e-01 -3.01103180e-02  4.17835724e-02  2.18718183e-01\n",
            "  -3.61231642e-02 -8.14583947e-01 -4.17513600e-02 -5.03074004e-02\n",
            "  -2.13349079e-01]\n",
            " [ 3.05728961e-01  9.04888470e-02  1.31217777e-01 -2.29262234e-02\n",
            "  -5.07581610e-01 -2.71728086e-01 -6.31145686e-01  1.97129425e-01\n",
            "  -1.71436883e-01 -9.57480885e-02 -8.87569452e-02  1.75328030e-01\n",
            "   1.86391279e-01]\n",
            " [-3.06683469e-01  8.35232677e-03  3.04309008e-02  4.96262330e-01\n",
            "   2.01634619e-01 -4.39997519e-01 -3.23122775e-01 -4.33055871e-01\n",
            "   2.44370210e-01  6.72468934e-02  1.99921861e-01 -3.67595797e-03\n",
            "   1.68082985e-01]\n",
            " [ 7.55406578e-02  5.49775805e-01 -7.99299713e-02  1.06482939e-01\n",
            "   5.73607091e-03 -4.11743459e-01  2.69082623e-01 -6.68411823e-02\n",
            "  -1.55514919e-01  8.73336218e-02 -2.21668868e-01  3.59756535e-01\n",
            "  -4.66369031e-01]\n",
            " [-3.26132628e-01 -2.07164328e-01  5.30591506e-02 -3.69053747e-01\n",
            "  -2.76914216e-01  1.41673377e-01 -3.02640661e-01 -4.59762295e-01\n",
            "   2.11961247e-02  1.29061125e-01 -9.84694573e-02  4.04669797e-02\n",
            "  -5.32483880e-01]\n",
            " [-3.68610222e-01 -2.49025357e-01  1.32391030e-01  1.42016088e-01\n",
            "  -6.66275572e-02  1.75842384e-01  1.30540143e-01  1.10827548e-01\n",
            "  -2.38089559e-01  1.87646268e-01  1.91205783e-02  7.42229543e-01\n",
            "   2.37835283e-01]\n",
            " [-2.96696514e-01  3.80229423e-01 -7.06502178e-02 -1.67682173e-01\n",
            "  -1.28029045e-01  1.38018388e-01  8.11335043e-04  5.60817288e-03\n",
            "   5.17278463e-01  1.21112574e-02 -5.42532072e-01  3.87395209e-02\n",
            "   3.67763359e-01]]\n"
          ]
        }
      ]
    },
    {
      "cell_type": "code",
      "source": [
        "#We only select subset of eigenvectors(PC) that contains most of the information(variance)\n",
        "#We are interested on top eigenvectors so we need to order in decreasing eigenvalues.\n",
        "tot=sum(eigen_vals) #somma totale dei valori eigen\n",
        "var_exp = [(i / tot) for i in sorted(eigen_vals, reverse = True)] #Variance explained ratios\n",
        "cum_var_exp = np.cumsum(var_exp) #cumulative sum of explained variances.\n",
        "\n",
        "#Graphics\n",
        "import matplotlib.pyplot as plt\n",
        "plt.bar(range(1,14), var_exp, align='center',label='Individual explained variance')\n",
        "plt.step(range(1,14), cum_var_exp, where='mid',label='Cumulative explained variance')\n",
        "plt.ylabel('Explained variance ratio')\n",
        "plt.xlabel('Principal component index')\n",
        "plt.legend(loc='best')\n",
        "plt.tight_layout()\n",
        "plt.show()"
      ],
      "metadata": {
        "colab": {
          "base_uri": "https://localhost:8080/",
          "height": 297
        },
        "id": "P4Iv5gZUWYHq",
        "outputId": "8de14d8d-e0e8-486d-e6ad-45eb3bddb571"
      },
      "execution_count": null,
      "outputs": [
        {
          "output_type": "display_data",
          "data": {
            "text/plain": [
              "<Figure size 432x288 with 1 Axes>"
            ],
            "image/png": "[encoded data removed]"
          },
          "metadata": {
            "needs_background": "light"
          }
        }
      ]
    },
    {
      "cell_type": "markdown",
      "source": [
        "As you can see, the first 2 component explain almost 60% of the variance in the dataset."
      ],
      "metadata": {
        "id": "yqniw3adXY2d"
      }
    },
    {
      "cell_type": "code",
      "source": [
        "#4) sorting\n",
        "eigen_pairs = [(np.abs(eigen_vals[i]), eigen_vecs[:, i]) for i in range(len(eigen_vals))]\n",
        "eigen_pairs.sort(key=lambda k: k[0], reverse=True)\n",
        "#5) selecting(this case k = 2) 6) construct w\n",
        "w = np.hstack((eigen_pairs[0][1][:, np.newaxis], eigen_pairs[1][1][:, np.newaxis]))\n",
        "print('Matrix W:\\n', w) \n",
        "#13x2 dimensional projection matrix."
      ],
      "metadata": {
        "colab": {
          "base_uri": "https://localhost:8080/"
        },
        "id": "2x3alEyKXiNH",
        "outputId": "bd82e5f1-f9b1-4f3d-9910-d31432ea5ced"
      },
      "execution_count": null,
      "outputs": [
        {
          "output_type": "stream",
          "name": "stdout",
          "text": [
            "Matrix W:\n",
            " [[-0.13724218  0.50303478]\n",
            " [ 0.24724326  0.16487119]\n",
            " [-0.02545159  0.24456476]\n",
            " [ 0.20694508 -0.11352904]\n",
            " [-0.15436582  0.28974518]\n",
            " [-0.39376952  0.05080104]\n",
            " [-0.41735106 -0.02287338]\n",
            " [ 0.30572896  0.09048885]\n",
            " [-0.30668347  0.00835233]\n",
            " [ 0.07554066  0.54977581]\n",
            " [-0.32613263 -0.20716433]\n",
            " [-0.36861022 -0.24902536]\n",
            " [-0.29669651  0.38022942]]\n"
          ]
        }
      ]
    },
    {
      "cell_type": "code",
      "source": [
        "#7) use the projection matrix\n",
        "X_train_std[0].dot(w)"
      ],
      "metadata": {
        "colab": {
          "base_uri": "https://localhost:8080/"
        },
        "id": "wv8M-Oj2YaPP",
        "outputId": "ae37c5e5-24b2-4b1c-9f43-ff33bec31eac"
      },
      "execution_count": null,
      "outputs": [
        {
          "output_type": "execute_result",
          "data": {
            "text/plain": [
              "array([2.38299011, 0.45458499])"
            ]
          },
          "metadata": {},
          "execution_count": 16
        }
      ]
    },
    {
      "cell_type": "code",
      "source": [
        "#transform entire 124x13 dimensional dataset to 2 pc\n",
        "X_train_pca = X_train_std.dot(w)"
      ],
      "metadata": {
        "id": "A0Q1anWOYjx8"
      },
      "execution_count": null,
      "outputs": []
    },
    {
      "cell_type": "code",
      "source": [
        "#DataVisualization\n",
        "colors = ['r', 'b', 'g']\n",
        "markers = ['o', 's', '^']\n",
        "for l, c, m in zip(np.unique(y_train), colors, markers):\n",
        "  plt.scatter(X_train_pca[y_train==l, 0],\n",
        "              X_train_pca[y_train==l, 1],\n",
        "              c=c, label=f'Class {l}', marker=m)\n",
        "plt.xlabel('PC 1')\n",
        "plt.ylabel('PC 2')\n",
        "plt.legend(loc='lower left')\n",
        "plt.tight_layout()\n",
        "plt.show()"
      ],
      "metadata": {
        "colab": {
          "base_uri": "https://localhost:8080/",
          "height": 297
        },
        "id": "S-VMRcmNZI6Z",
        "outputId": "eced3bc7-69b0-4c60-99e9-c3fb67114a5a"
      },
      "execution_count": null,
      "outputs": [
        {
          "output_type": "display_data",
          "data": {
            "text/plain": [
              "<Figure size 432x288 with 1 Axes>"
            ],
            "image/png": "[encoded data removed]"
          },
          "metadata": {
            "needs_background": "light"
          }
        }
      ]
    },
    {
      "cell_type": "markdown",
      "source": [
        "Keep in mind pca is unsupervised techniques that doesnt require any use of class label information"
      ],
      "metadata": {
        "id": "jXx4z8KWZjr-"
      }
    },
    {
      "cell_type": "markdown",
      "source": [
        "# PCA with SCIKIT"
      ],
      "metadata": {
        "id": "p9IFXHVIaTml"
      }
    },
    {
      "cell_type": "code",
      "source": [
        "from matplotlib.colors import ListedColormap\n",
        "def plot_decision_regions(X, y, classifier, test_idx=None, resolution=0.02):\n",
        "  # setup marker generator and color map\n",
        "  markers = ('o', 's', '^', 'v', '<')\n",
        "  colors = ('red', 'blue', 'lightgreen', 'gray', 'cyan')\n",
        "  cmap = ListedColormap(colors[:len(np.unique(y))])\n",
        "  # plot the decision surface\n",
        "  x1_min, x1_max = X[:, 0].min() - 1, X[:, 0].max() + 1\n",
        "  x2_min, x2_max = X[:, 1].min() - 1, X[:, 1].max() + 1\n",
        "  xx1, xx2 = np.meshgrid(np.arange(x1_min, x1_max, resolution),\n",
        "  np.arange(x2_min, x2_max, resolution))\n",
        "  lab = classifier.predict(np.array([xx1.ravel(), xx2.ravel()]).T)\n",
        "  lab = lab.reshape(xx1.shape)\n",
        "  plt.contourf(xx1, xx2, lab, alpha=0.3, cmap=cmap)\n",
        "  plt.xlim(xx1.min(), xx1.max())\n",
        "  plt.ylim(xx2.min(), xx2.max())\n",
        "  # plot class examples\n",
        "  for idx, cl in enumerate(np.unique(y)):\n",
        "    plt.scatter(x=X[y == cl, 0],\n",
        "                y=X[y == cl, 1],\n",
        "                alpha=0.8,\n",
        "                c=colors[idx],\n",
        "                marker=markers[idx],\n",
        "                label=f'Class {cl}',\n",
        "                edgecolor='black')"
      ],
      "metadata": {
        "id": "M87NptWdaYEi"
      },
      "execution_count": 23,
      "outputs": []
    },
    {
      "cell_type": "code",
      "source": [
        "from sklearn.linear_model import LogisticRegression\n",
        "from sklearn.decomposition import PCA\n",
        "pca = PCA(n_components=2)\n",
        "lr = LogisticRegression(multi_class='ovr',\n",
        "                        random_state=1,\n",
        "                        solver='lbfgs')\n",
        "X_train_pca = pca.fit_transform(X_train_std)\n",
        "X_test_pca = pca.transform(X_test_std)\n",
        "lr.fit(X_train_pca, y_train)\n",
        "plot_decision_regions(X_train_pca, y_train, classifier=lr)\n",
        "plt.xlabel('PC 1')\n",
        "plt.ylabel('PC 2')\n",
        "plt.legend(loc='lower left')\n",
        "plt.tight_layout()\n",
        "plt.show()"
      ],
      "metadata": {
        "colab": {
          "base_uri": "https://localhost:8080/",
          "height": 297
        },
        "id": "RAjxo4IiahNq",
        "outputId": "bf0639dd-b8c1-4a84-c7cc-9a5cfb43c366"
      },
      "execution_count": 24,
      "outputs": [
        {
          "output_type": "display_data",
          "data": {
            "text/plain": [
              "<Figure size 432x288 with 1 Axes>"
            ],
            "image/png": "[encoded data removed]"
          },
          "metadata": {
            "needs_background": "light"
          }
        }
      ]
    }
  ]
}