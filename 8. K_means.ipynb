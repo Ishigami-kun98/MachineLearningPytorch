{
  "nbformat": 4,
  "nbformat_minor": 0,
  "metadata": {
    "colab": {
      "provenance": []
    },
    "kernelspec": {
      "name": "python3",
      "display_name": "Python 3"
    },
    "language_info": {
      "name": "python"
    }
  },
  "cells": [
    {
      "cell_type": "markdown",
      "source": [
        "# Unlabeled data"
      ],
      "metadata": {
        "id": "o_wf1gjzqrpH"
      }
    },
    {
      "cell_type": "markdown",
      "source": [
        "<H1> Clustering analysis <br>\n",
        "<h6> Uses clustering algorithms, one of the most popular is k-means. Clustering is a technique that allows us to find groups of similar object that are more related to each other then to objects in other groups. <br>\n",
        "K-means is extremely easy to implement and also very efficient compared to other clustering algorithms."
      ],
      "metadata": {
        "id": "8M4CEAY1qurA"
      }
    },
    {
      "cell_type": "markdown",
      "source": [
        "Prototype-based clustering means that each cluster is represented by a prototype, which is the centroid(average) of similar points with continuous features.<br>\n",
        "We have to specify a number of clusters, k, an inappropriate choice for k can result in poor clustering performance. <br>\n",
        "K-means can be applied also in high dimensions, but for examples we will just use 2 dimensions."
      ],
      "metadata": {
        "id": "1yHknRSgrMb-"
      }
    },
    {
      "cell_type": "code",
      "source": [
        "from sklearn.datasets import make_blobs\n",
        "X, y = make_blobs(n_samples=150,\n",
        "                  n_features=2,\n",
        "                  centers=3,\n",
        "                  cluster_std=0.5,\n",
        "                  shuffle=True,\n",
        "                  random_state=0)"
      ],
      "metadata": {
        "id": "slgjBfdlro5X"
      },
      "execution_count": 1,
      "outputs": []
    },
    {
      "cell_type": "code",
      "source": [
        "import matplotlib.pyplot as plt\n",
        "plt.scatter(X[:, 0], X[:, 1],\n",
        "            c='white', marker ='o',\n",
        "            edgecolor='black', s=50)\n",
        "plt.xlabel('Feature 1')\n",
        "plt.ylabel('Feature 2')\n",
        "plt.grid()\n",
        "plt.tight_layout()\n",
        "plt.show()\n",
        "#We created 150 randomly generated point in 3 regions."
      ],
      "metadata": {
        "colab": {
          "base_uri": "https://localhost:8080/",
          "height": 297
        },
        "id": "DzMKqiOrr0I2",
        "outputId": "8f19c11f-3ddd-4622-c2a0-e6114c5efd79"
      },
      "execution_count": 2,
      "outputs": [
        {
          "output_type": "display_data",
          "data": {
            "text/plain": [
              "<Figure size 432x288 with 1 Axes>"
            ],
            "image/png": "[encoded data removed]"
          },
          "metadata": {
            "needs_background": "light"
          }
        }
      ]
    },
    {
      "cell_type": "markdown",
      "source": [
        "K-means steps:\n",
        "\n",
        "1.   Randomly pick k centroids.\n",
        "1.   Assign each example to the nearest centroid\n",
        "2.   Move the centroids to the center of the examples that were assigned\n",
        "2.   Repeat 2 and 3 until convergence or some constraints.\n",
        "\n",
        "Also we need to measure similarity between object, like squared euclidean distance between 2 points.\n",
        "\n"
      ],
      "metadata": {
        "id": "peiSsBLfsKMW"
      }
    },
    {
      "cell_type": "code",
      "source": [
        "from sklearn.cluster import KMeans\n",
        "km = KMeans(n_clusters=3,\n",
        "            init='random',\n",
        "            n_init=10,\n",
        "            max_iter=300,\n",
        "            tol=1e-04,\n",
        "            random_state=0)\n",
        "y_km = km.fit_predict(X)\n",
        "print(y_km)"
      ],
      "metadata": {
        "colab": {
          "base_uri": "https://localhost:8080/"
        },
        "id": "HT01l3mKuSf2",
        "outputId": "6416fddd-5106-4d2f-e106-bd9dacd9a13d"
      },
      "execution_count": 4,
      "outputs": [
        {
          "output_type": "stream",
          "name": "stdout",
          "text": [
            "[1 0 0 0 1 0 0 1 2 0 1 2 2 0 0 2 2 1 2 1 0 1 0 0 2 1 1 0 2 1 2 2 2 2 0 1 1\n",
            " 1 0 0 2 2 0 1 1 1 2 0 2 0 1 0 0 1 1 2 0 1 2 0 2 2 2 2 0 2 0 1 0 0 0 1 1 0\n",
            " 1 0 0 2 2 0 1 1 0 0 1 1 1 2 2 1 1 0 1 0 1 0 2 2 1 1 1 1 2 1 1 0 2 0 0 0 2\n",
            " 0 1 2 0 2 0 0 2 2 0 1 0 0 1 1 2 1 2 2 2 2 1 2 2 2 0 2 1 2 0 0 1 1 2 2 2 2\n",
            " 1 1]\n"
          ]
        }
      ]
    }
  ]
}