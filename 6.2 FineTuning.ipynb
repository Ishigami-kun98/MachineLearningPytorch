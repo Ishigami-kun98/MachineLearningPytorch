{
  "nbformat": 4,
  "nbformat_minor": 0,
  "metadata": {
    "colab": {
      "provenance": [],
      "collapsed_sections": [
        "PHiznOL2nxU2"
      ]
    },
    "kernelspec": {
      "name": "python3",
      "display_name": "Python 3"
    },
    "language_info": {
      "name": "python"
    }
  },
  "cells": [
    {
      "cell_type": "markdown",
      "source": [
        "# Debugging algorithms"
      ],
      "metadata": {
        "id": "PHiznOL2nxU2"
      }
    },
    {
      "cell_type": "markdown",
      "source": [
        "<H1> Learning curve\n",
        "<br> <h6> A powerful Machine learning tool that tells you how it is going your training or validation, this is very important because when you have too many data to handle it is somehow difficult to represent how the training is doing, that s why learning curve helps us."
      ],
      "metadata": {
        "id": "XqTWu3ivoHZE"
      }
    },
    {
      "cell_type": "code",
      "source": [
        "import pandas as pd\n",
        "#DataBase\n",
        "df = pd.read_csv(\n",
        "'https://archive.ics.uci.edu/ml/'\n",
        "'machine-learning-databases'\n",
        "'/breast-cancer-wisconsin/wdbc.data',\n",
        "header=None\n",
        ")"
      ],
      "metadata": {
        "id": "g0tM-VdrqF-m"
      },
      "execution_count": 3,
      "outputs": []
    },
    {
      "cell_type": "code",
      "source": [
        "#Label encoding\n",
        "from sklearn.preprocessing import LabelEncoder\n",
        "X = df.loc[:, 2:].values\n",
        "y = df.loc[:,1].values\n",
        "le = LabelEncoder()\n",
        "y = le.fit_transform(y)"
      ],
      "metadata": {
        "id": "FaduQ3iSqJv9"
      },
      "execution_count": 4,
      "outputs": []
    },
    {
      "cell_type": "code",
      "source": [
        "from sklearn.model_selection import train_test_split\n",
        "X_train, X_test, y_train, y_test = train_test_split(X, y, test_size=0.30, stratify =y, random_state=1)"
      ],
      "metadata": {
        "id": "g9LTiDBpqMJW"
      },
      "execution_count": 5,
      "outputs": []
    },
    {
      "cell_type": "code",
      "source": [
        "from sklearn.preprocessing import StandardScaler\n",
        "from sklearn.decomposition import PCA\n",
        "from sklearn.linear_model import LogisticRegression\n",
        "from sklearn.pipeline import make_pipeline\n",
        "pipe_lr = make_pipeline(StandardScaler(),\n",
        "                        PCA(n_components=2),\n",
        "                        LogisticRegression())\n",
        "pipe_lr.fit(X_train, y_train)\n",
        "y_pred = pipe_lr.predict(X_test)\n",
        "test_acc = pipe_lr.score(X_test, y_test)\n",
        "print(f'Test accuracy: {test_acc:.3f}')"
      ],
      "metadata": {
        "colab": {
          "base_uri": "https://localhost:8080/"
        },
        "id": "EC2S5EotqQvQ",
        "outputId": "e6443a7e-fd08-4480-b175-3192802f88f0"
      },
      "execution_count": 6,
      "outputs": [
        {
          "output_type": "stream",
          "name": "stdout",
          "text": [
            "Test accuracy: 0.942\n"
          ]
        }
      ]
    },
    {
      "cell_type": "code",
      "source": [
        "import matplotlib.pyplot as plt\n",
        "import numpy as np\n",
        "from sklearn.model_selection import learning_curve\n",
        "pipe_lr = make_pipeline(StandardScaler(), LogisticRegression(penalty='l2', max_iter=10000))\n",
        "train_sizes, train_scores, test_scores = learning_curve(estimator=pipe_lr,\n",
        "                                                        X=X_train, y=y_train,\n",
        "                                                        train_sizes=np.linspace(0.1, 1.0, 10),\n",
        "                                                        cv =10, n_jobs=1)\n",
        "train_mean =np.mean(train_scores, axis =1)\n",
        "train_std = np.std(train_scores, axis = 1)\n",
        "test_mean = np.mean(test_scores, axis=1)\n",
        "test_std = np.std(test_scores, axis = 1)\n",
        "plt.plot(train_sizes, train_mean,\n",
        "    color='blue', marker='o',\n",
        "    markersize=5, label='Training accuracy')\n",
        "plt.fill_between(train_sizes,\n",
        "  train_mean + train_std,\n",
        "  train_mean - train_std,\n",
        "  alpha=0.15, color='blue')\n",
        "plt.plot(train_sizes, test_mean,\n",
        "  color='green', linestyle='--',\n",
        "  marker='s', markersize=5,\n",
        "  label='Validation accuracy')\n",
        "plt.fill_between(train_sizes,\n",
        "  test_mean + test_std,\n",
        "  test_mean - test_std,\n",
        "  alpha=0.15, color='green')\n",
        "plt.grid()\n",
        "plt.xlabel('Parameter C')\n",
        "plt.ylabel('Accuracy')\n",
        "plt.legend(loc='lower right')\n",
        "plt.ylim([0.8, 1.00])\n",
        "plt.show()"
      ],
      "metadata": {
        "colab": {
          "base_uri": "https://localhost:8080/",
          "height": 283
        },
        "id": "3eLEflAsoZXW",
        "outputId": "3b5e5015-22ef-4603-f491-4e8ccab6a607"
      },
      "execution_count": 9,
      "outputs": [
        {
          "output_type": "display_data",
          "data": {
            "text/plain": [
              "<Figure size 432x288 with 1 Axes>"
            ],
            "image/png": "[encoded data removed]"
          },
          "metadata": {
            "needs_background": "light"
          }
        }
      ]
    },
    {
      "cell_type": "markdown",
      "source": [
        "<H1> Validation curves"
      ],
      "metadata": {
        "id": "T5ih7LYuq5JF"
      }
    },
    {
      "cell_type": "code",
      "source": [
        "from sklearn.model_selection import validation_curve\n",
        "param_range = [0.001, 0.01, 0.1, 1.0, 10.0, 100.0]\n",
        "train_scores, test_scores = validation_curve(estimator=pipe_lr,\n",
        "                                             X=X_train, y=y_train,\n",
        "                                             param_name='logisticregression__C',\n",
        "                                             param_range=param_range,\n",
        "                                             cv =10)\n",
        "train_mean =np.mean(train_scores, axis =1)\n",
        "train_std = np.std(train_scores, axis = 1)\n",
        "test_mean = np.mean(test_scores, axis=1)\n",
        "test_std = np.std(test_scores, axis = 1)\n",
        "plt.plot(param_range, train_mean,\n",
        "    color='blue', marker='o',\n",
        "    markersize=5, label='Training accuracy')\n",
        "plt.fill_between(param_range,\n",
        "  train_mean + train_std,\n",
        "  train_mean - train_std,\n",
        "  alpha=0.15, color='blue')\n",
        "plt.plot(param_range, test_mean,\n",
        "  color='green', linestyle='--',\n",
        "  marker='s', markersize=5,\n",
        "  label='Validation accuracy')\n",
        "plt.fill_between(param_range,\n",
        "  test_mean + test_std,\n",
        "  test_mean - test_std,\n",
        "  alpha=0.15, color='green')\n",
        "plt.grid()\n",
        "plt.xscale('log')\n",
        "plt.xlabel('Parameter C')\n",
        "plt.ylabel('Accuracy')\n",
        "plt.legend(loc='lower right')\n",
        "plt.ylim([0.8, 1.00])\n",
        "plt.show()"
      ],
      "metadata": {
        "colab": {
          "base_uri": "https://localhost:8080/",
          "height": 287
        },
        "id": "BO5en-pjq92V",
        "outputId": "e6a2bded-d120-4571-9965-f5be2389a897"
      },
      "execution_count": null,
      "outputs": [
        {
          "output_type": "display_data",
          "data": {
            "text/plain": [
              "<Figure size 432x288 with 1 Axes>"
            ],
            "image/png": "[encoded data removed]"
          },
          "metadata": {
            "needs_background": "light"
          }
        }
      ]
    },
    {
      "cell_type": "markdown",
      "source": [
        "# Fine tuning via grid search"
      ],
      "metadata": {
        "id": "DvmvLyFXsI-N"
      }
    },
    {
      "cell_type": "markdown",
      "source": [
        "In ML we have 2 type of parameters, learned from training data and parameters of a learning algorithm that are optimized separately. <br>\n",
        "Grid search can further improve the performance of a model by finding the optimal combination of hyperparameter values."
      ],
      "metadata": {
        "id": "u9WzjBhasOgu"
      }
    },
    {
      "cell_type": "markdown",
      "source": [
        "Just for who's being confused by hyperparameters and parameters.\n",
        "<br> Hyperparameters are external parameters of a models, which cannot be derivied by the model itself, it is high level parameter that we set up before train our model, one example is the learning rate, you choose a learning rate(hyperparameter) then train the model, but once you got the model, you know what learning rate you used (because you chosed), but other cannot deduce the learning rate from the model. <br>\n",
        "In other hand, parameters are internal of models and can be derivied from the model, example, the weights of the models, bias cluster etc....\n",
        "<br>\n",
        "So all these thing as learning curve, validation curve are just used to get the best hyperparameter to set for the next train."
      ],
      "metadata": {
        "id": "7eZv392eumx9"
      }
    },
    {
      "cell_type": "code",
      "source": [
        "from sklearn.model_selection import GridSearchCV\n",
        "from sklearn.svm import SVC\n",
        "pipe_svc = make_pipeline(StandardScaler(),\n",
        "                         SVC(random_state=1))\n",
        "param_range = [0.0001, 0.001, 0.01, 0.1,\n",
        "               1.0, 10.0, 100.0, 1000.0]\n",
        "param_grid = [{'svc__C': param_range,\n",
        "               'svc__kernel': ['linear']},\n",
        "              {'svc__C': param_range,\n",
        "              'svc__gamma': param_range,\n",
        "              'svc__kernel': ['rbf']}]\n",
        "gs = GridSearchCV(estimator=pipe_svc,\n",
        "                  param_grid=param_grid,\n",
        "                  scoring='accuracy',\n",
        "                  cv=10,\n",
        "                  refit=True,\n",
        "                  n_jobs=-1)\n",
        "gs = gs.fit(X_train, y_train)\n",
        "print(gs.best_score_)\n",
        "0.9846153846153847\n",
        "print(gs.best_params_)\n",
        "{'svc__C': 100.0, 'svc__gamma': 0.001, 'svc__kernel': 'rbf'}"
      ],
      "metadata": {
        "colab": {
          "base_uri": "https://localhost:8080/"
        },
        "id": "6b4JnBtmvPYM",
        "outputId": "30780df7-2d67-4385-e4e2-09b90e422ddf"
      },
      "execution_count": null,
      "outputs": [
        {
          "output_type": "stream",
          "name": "stdout",
          "text": [
            "0.9924358974358973\n",
            "{'svc__C': 10.0, 'svc__gamma': 0.01, 'svc__kernel': 'rbf'}\n"
          ]
        },
        {
          "output_type": "execute_result",
          "data": {
            "text/plain": [
              "{'svc__C': 100.0, 'svc__gamma': 0.001, 'svc__kernel': 'rbf'}"
            ]
          },
          "metadata": {},
          "execution_count": 15
        }
      ]
    },
    {
      "cell_type": "markdown",
      "source": [
        "The grid search approach is quite simple, brute-force exhaustive search paradigm, we specify a list of values for different hyperparameters and the computer evaluates the model performance for each combination to obtain the optimal one."
      ],
      "metadata": {
        "id": "I9b7llxKv2fb"
      }
    },
    {
      "cell_type": "code",
      "source": [
        "clf = gs.best_estimator_\n",
        "clf.fit(X_train, y_train)\n",
        "print(f'Test accuracy: {clf.score(X_test, y_test):.3f}')"
      ],
      "metadata": {
        "colab": {
          "base_uri": "https://localhost:8080/"
        },
        "id": "rY51OMQywGJz",
        "outputId": "8fcad760-0ffd-4a59-c953-665d3c007d49"
      },
      "execution_count": null,
      "outputs": [
        {
          "output_type": "stream",
          "name": "stdout",
          "text": [
            "Test accuracy: 0.959\n"
          ]
        }
      ]
    },
    {
      "cell_type": "markdown",
      "source": [
        "# Confusion matrix"
      ],
      "metadata": {
        "id": "h3vRNbPlYG5d"
      }
    },
    {
      "cell_type": "markdown",
      "source": [
        "Is a simply square matrix that reports the counts of the true positive, true nevative, false positive, false negative."
      ],
      "metadata": {
        "id": "AZM8ZdBNYPwE"
      }
    },
    {
      "cell_type": "code",
      "source": [
        "from sklearn.metrics import confusion_matrix\n",
        "pipe_lr.fit(X_train, y_train)\n",
        "y_pred = pipe_lr.predict(X_test)\n",
        "confmat = confusion_matrix(y_true=y_test, y_pred=y_pred)\n",
        "print(confmat)"
      ],
      "metadata": {
        "colab": {
          "base_uri": "https://localhost:8080/"
        },
        "id": "WEwmfQ4fYbt1",
        "outputId": "6f69e233-6b0d-4558-d299-afff49c11154"
      },
      "execution_count": 7,
      "outputs": [
        {
          "output_type": "stream",
          "name": "stdout",
          "text": [
            "[[105   2]\n",
            " [  8  56]]\n"
          ]
        }
      ]
    },
    {
      "cell_type": "code",
      "source": [
        "#Visual information\n",
        "fig, ax = plt.subplots(figsize=(2.5, 2.5))\n",
        "ax.matshow(confmat, cmap=plt.cm.Blues, alpha=0.3)\n",
        "for i in range(confmat.shape[0]):\n",
        "  for j in range(confmat.shape[1]):\n",
        "    ax.text(x=j, y=i, s=confmat[i, j],va='center', ha='center')\n",
        "ax.xaxis.set_ticks_position('bottom')\n",
        "plt.xlabel('Predicted label')\n",
        "plt.ylabel('True label')\n",
        "plt.show()"
      ],
      "metadata": {
        "colab": {
          "base_uri": "https://localhost:8080/",
          "height": 198
        },
        "id": "GwhujieYYz8C",
        "outputId": "101024f5-7289-40f2-e654-b33d7a6c0783"
      },
      "execution_count": 11,
      "outputs": [
        {
          "output_type": "display_data",
          "data": {
            "text/plain": [
              "<Figure size 180x180 with 1 Axes>"
            ],
            "image/png": "[encoded data removed]"
          },
          "metadata": {
            "needs_background": "light"
          }
        }
      ]
    },
    {
      "cell_type": "markdown",
      "source": [
        "EER è la predizione errata, insieme all'accuracy viene utilizzata per prendere informazioni generali dei esempi misclassificati. <br>\n",
        "EER = (FP + FN) / (Somma tutti F..)\n",
        "Acc = 1- ERR\n"
      ],
      "metadata": {
        "id": "dVCTLUwcZM0c"
      }
    }
  ]
}